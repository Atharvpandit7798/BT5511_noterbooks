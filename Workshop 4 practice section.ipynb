{
 "cells": [
  {
   "cell_type": "code",
   "execution_count": 29,
   "id": "0c6f75da-fe17-4ab7-b8da-fcbfbfc74bed",
   "metadata": {},
   "outputs": [],
   "source": [
    "def transcribeDNA(seq):\n",
    "    '''    \n",
    "    Transcribe a DNA sequence into an mRNA sequence\n",
    "    '''\n",
    "    \n",
    "    trans_dict = {\"A\": \"U\", \"C\": \"G\", \"T\": \"A\", \"G\":\"C\"}\n",
    "    dna_seq = \"\".join([trans_dict[x] for x in seq])\n",
    "    \n",
    "    return(dna_seq[::-1])\n",
    "\n",
    "\n",
    "\n",
    "\n",
    "def translateSeq(seq, codons, frame=1):\n",
    "    '''\n",
    "    translate an mRNA sequence into a peptide\n",
    "    st is the starting nt index, i.e. which reading frame: 0, 1 or 2\n",
    "    '''\n",
    "\n",
    "    if type (seq) != str:\n",
    "        raise TypeError(\"str should be a string not ()\".format(type(seq)))\n",
    "        \n",
    "    re_find = re.compile(\"[BC-FH-TV-Z]\")\n",
    "\n",
    "    if any(re_find.findall(seq))\n",
    "    \n",
    "    if any([\"A\" in xt for xt in seq]):\n",
    "        pass\n",
    "    elif any([\"U\" in xt for xt in seq]):\n",
    "        pass\n",
    "    elif any([\"G\" in xt for xt in seq]):\n",
    "        pass\n",
    "    elif any([\"C\" in xt for xt in seq]):\n",
    "        pass \n",
    "    else:\n",
    "        raise TypeError(\"seq should be A, U, C or G\")\n",
    "   \n",
    "    peptide = \"\"\n",
    "    if frame == 1:\n",
    "        fseq = seq\n",
    "    elif frame == 2:\n",
    "        fseq = seq[1:-2]\n",
    "    elif frame == 3:\n",
    "        fseq = seq[2:-1]\n",
    "\n",
    "    if len(fseq) % 3 == 0:\n",
    "        pass\n",
    "    else:\n",
    "        raise TypeError(\"fseq is not divisible by 3\")\n",
    "    \n",
    "    for idx in range(0, len(fseq), 3):\n",
    "        codon = fseq[idx: idx+3]\n",
    "        aa = codon_dict[codon]\n",
    "        if idx != len(fseq) - 3:\n",
    "            if aa == \"*\":\n",
    "                return(peptide + aa)\n",
    "            else:\n",
    "                peptide += aa\n",
    "        else:\n",
    "            peptide += aa\n",
    "    \n",
    "    return(peptide)\n",
    "\n",
    "\n",
    "\n"
   ]
  },
  {
   "cell_type": "code",
   "execution_count": 31,
   "id": "076ad894-a1e0-4886-9471-4044e70d67bd",
   "metadata": {},
   "outputs": [],
   "source": [
    "\n",
    "dna_seq=\"ATGATCCACGATTCCAGGCTTCCCATTCAAAATTGCCGCCATCCAAAGGCTGACTGGGGACGTGTAAGGAGCGTTCGAGAATATACAAAGTCAGATCGAGACACGCCGGTACATTCTATCTGGAACGGGCCGTCGCCGAGACCTTCGCTGTGCTTCTTTAGTAGTTCCTCAATGCCGAATGGGGCATCGGGCAGGTGTAACAACAAGCTTCGTATGAATGTATTTCTAAGTCTGGACTATTCCGTATATGCTGCTTTATTAGTGCGACTATGGCGAGATCATAGGCAATCGTGTCCCATGGGTCAGGACGCGGTAAGGAGTACAACCAGCATCAACTGA\" \n",
    "codon_dict = {\"UUU\": \"F\", \"UUC\": \"F\", \"UUA\": \"L\", \"UUG\": \"L\", \"UCU\": \"S\", \"UCC\": \"S\", \"UCA\": \"S\", \"UCG\": \"S\",\n",
    "                  \"UAU\": \"Y\", \"UAC\": \"Y\", \"UAA\": \"*\", \"UAG\": \"*\", \"UGU\": \"C\", \"UGC\": \"C\", \"UGA\": \"*\", \"UGG\": \"W\",\n",
    "                  \"CUU\": \"L\", \"CUC\": \"L\", \"CUA\": \"L\", \"CUG\": \"L\", \"CCU\": \"P\", \"CCC\": \"P\", \"CCA\": \"P\", \"CCG\": \"P\",\n",
    "                  \"CAU\": \"H\", \"CAC\": \"H\", \"CAA\": \"Q\", \"CAG\": \"Q\", \"CGU\": \"R\", \"CGC\": \"R\", \"CGA\": \"R\", \"CGG\": \"R\",\n",
    "                  \"AUU\": \"I\", \"AUC\": \"I\", \"AUA\": \"I\", \"AUG\": \"M\", \"ACU\": \"T\", \"ACC\": \"T\", \"ACA\": \"T\", \"ACG\": \"T\",\n",
    "                  \"AAU\": \"N\", \"AAC\": \"N\", \"AAA\": \"K\", \"AAG\": \"K\", \"AGU\": \"S\", \"AGC\": \"S\", \"AGA\": \"R\", \"AGG\": \"R\",\n",
    "                  \"GUU\": \"V\", \"GUC\": \"V\", \"GUA\": \"V\", \"GUG\": \"V\", \"GCU\": \"A\", \"GCC\": \"A\", \"GCA\": \"A\", \"GCG\": \"A\",\n",
    "                  \"GAU\": \"D\", \"GAC\": \"D\", \"GAA\": \"E\", \"GAG\": \"E\", \"GGU\": \"G\", \"GGC\": \"G\", \"GGA\": \"G\", \"GGG\": \"G\"}\n",
    "\n",
    "mrna = transcribeDNA(dna_seq)\n",
    "\n",
    "amino_acid = translateSeq(mrna, codon_dict)"
   ]
  },
  {
   "cell_type": "code",
   "execution_count": 33,
   "id": "9c89ec77-b436-4490-9214-b2ad74768aba",
   "metadata": {},
   "outputs": [
    {
     "data": {
      "text/plain": [
       "'SVDAGCTPYRVLTHGTRLPMISP*'"
      ]
     },
     "execution_count": 33,
     "metadata": {},
     "output_type": "execute_result"
    }
   ],
   "source": [
    "amino_acid"
   ]
  },
  {
   "cell_type": "code",
   "execution_count": null,
   "id": "1ec8def3-2bf4-4623-a806-48cb16f2e545",
   "metadata": {},
   "outputs": [],
   "source": []
  }
 ],
 "metadata": {
  "kernelspec": {
   "display_name": "Python 3 (ipykernel)",
   "language": "python",
   "name": "python3"
  },
  "language_info": {
   "codemirror_mode": {
    "name": "ipython",
    "version": 3
   },
   "file_extension": ".py",
   "mimetype": "text/x-python",
   "name": "python",
   "nbconvert_exporter": "python",
   "pygments_lexer": "ipython3",
   "version": "3.11.7"
  }
 },
 "nbformat": 4,
 "nbformat_minor": 5
}
